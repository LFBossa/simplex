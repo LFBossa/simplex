{
 "cells": [
  {
   "cell_type": "markdown",
   "metadata": {},
   "source": [
    "# Exemplo do método Primal-Dual Path Following\n",
    "\n",
    "## Exemplo visto em sala\n",
    "\n",
    "Vamos importar a classe que contém a implementação e definir os parâmetros do problema."
   ]
  },
  {
   "cell_type": "code",
   "execution_count": 1,
   "metadata": {
    "collapsed": true
   },
   "outputs": [],
   "source": [
    "from pontosinteriores import PrimalDualPF\n",
    "\n",
    "A = [[ 1, -2, -1,  0],\n",
    "     [-1, -1,  0, -1]]\n",
    "b = [-4,-4]\n",
    "c = [-1,-3]\n",
    "x = [1, 1, 3, 2]\n",
    "s = [1, 2, 1, 3]\n",
    "w = [1, 3]"
   ]
  },
  {
   "cell_type": "markdown",
   "metadata": {},
   "source": [
    "Agora, vamos resolver o problema para vários valores de $\\sigma\\in(0,1)$, e salvar os caminhos na variável `SOLUCOES`."
   ]
  },
  {
   "cell_type": "code",
   "execution_count": 2,
   "metadata": {
    "collapsed": true
   },
   "outputs": [],
   "source": [
    "TOTAL_ITERATIONS = 25\n",
    "SOLUCOES = []\n",
    "valores_de_sigma = [ j/TOTAL_ITERATIONS for j in range(1,TOTAL_ITERATIONS)]\n",
    "# valores_de_sigma variam de 1/N até (N-1)/N, com N = TOTAL_ITERATIONS\n",
    "NSIGMA = len(valores_de_sigma)\n",
    "\n",
    "for sigma in valores_de_sigma: # para cada sigma\n",
    "    problema = PrimalDualPF(A,b,c,x,w,s) \n",
    "    problema.solve(SIGMA=sigma)     # resolvemos o problema \n",
    "    SOLUCOES.append(problema.caminho) # e adicionamos o caminho as solucoes"
   ]
  },
  {
   "cell_type": "markdown",
   "metadata": {},
   "source": [
    "Vamos analizar quantas iterações foram necessárias para convergir, em função de $\\sigma$."
   ]
  },
  {
   "cell_type": "code",
   "execution_count": 3,
   "metadata": {
    "collapsed": false
   },
   "outputs": [
    {
     "data": {
      "image/png": "[encoded data removed]",
      "text/plain": [
       "<matplotlib.figure.Figure at 0x280c9173d68>"
      ]
     },
     "metadata": {},
     "output_type": "display_data"
    }
   ],
   "source": [
    "%matplotlib inline\n",
    "n_iteracoes = [len(SOLUCOES[j][0]) for j in range(NSIGMA)]\n",
    "\n",
    "import matplotlib.pyplot as plt \n",
    "\n",
    "plt.scatter(valores_de_sigma,n_iteracoes) # Plotando os valores de x e y\n",
    "plt.xlim(0,1)                     # define os valores minimo e máximo de x\n",
    "plt.ylim(0,1.1*max(n_iteracoes))  # colocamos uma folga de 10% pra ficar um gráfico mais bonito\n",
    "plt.title(\"Convergência\")\n",
    "plt.xlabel(\"$\\sigma$\")            # definindo os títulos \n",
    "plt.ylabel(\"# iterações\")\n",
    "plt.grid()                        # Vamos exibir as grades\n",
    "plt.show()"
   ]
  },
  {
   "cell_type": "markdown",
   "metadata": {},
   "source": [
    "Agora, vamos usar interatividade. \n",
    "1. Primeiro, vamos calcular o valor máximo e mínimo de x e y para todos os caminhos calculados.\n",
    "* Depois, definiremos uma função que, dado um valor de $\\sigma$, plote o gráfico do caminho correspondente, juntamente com as retas das restrições lineares.\n",
    "* Então, usaremos um *widget* para obtermos a interatividade."
   ]
  },
  {
   "cell_type": "code",
   "execution_count": 4,
   "metadata": {
    "collapsed": true
   },
   "outputs": [],
   "source": [
    "#1. Calculando o valor máximo e mínimo para x e y\n",
    "X_MIN = min([min(SOLUCOES[j][0]) for j in range(NSIGMA)])\n",
    "X_MAX = max([max(SOLUCOES[j][0]) for j in range(NSIGMA)])\n",
    "Y_MIN = min([min(SOLUCOES[j][1]) for j in range(NSIGMA)])\n",
    "Y_MAX = max([max(SOLUCOES[j][1]) for j in range(NSIGMA)])"
   ]
  },
  {
   "cell_type": "code",
   "execution_count": 5,
   "metadata": {
    "collapsed": false
   },
   "outputs": [],
   "source": [
    "#2. Definindo a função que plota o gráfico do caminho...\n",
    "def plotar(sigma): \n",
    "    j=sigma\n",
    "    x,y = SOLUCOES[j][0], SOLUCOES[j][1]\n",
    "    plt.figure(figsize=(9,7)) # definimos o tamanho da figura como 9x7\"\n",
    "    plt.plot(x,y,color='green', linestyle='dashed', marker='^',\n",
    "     markerfacecolor='blue', markersize=5)         \n",
    "    # plotamos o caminho em verde, com cada ponto marcado com um triangulo azul\n",
    "    \n",
    "    # Vamos aumentar um pouco a janela de exibição\n",
    "    JX_MAX, JY_MAX = X_MAX + 0.2*(X_MAX-X_MIN), Y_MAX +0.2*(Y_MAX-Y_MIN) \n",
    "    JX_MIN, JY_MIN = X_MIN - 0.1*(X_MAX-X_MIN), Y_MIN -0.1*(Y_MAX-Y_MIN) \n",
    "    plt.xlim(JX_MIN,JX_MAX)       \n",
    "    plt.ylim(JY_MIN,JY_MAX)     # definimos a janela da plotagem e os \n",
    "    plt.xlabel(\"x\")            # títulos dos eixos\n",
    "    plt.ylabel(\"y\")            # bem como o título da figura\n",
    "    plt.title(\"Caminho para $\\sigma = {}$\".format(valores_de_sigma[j])) \n",
    "    \n",
    "    # agora, vamos plotar as restrições em vermelho\n",
    "    plotar_restricoes()\n",
    "    plt.legend((\"Caminho\",\"Restrições\"),loc='upper left') \n",
    "    # colocamos uma legenta no canto esquerdo superior\n",
    "    plt.show()\n",
    "# ... juntamente com as restrições    \n",
    "def plotar_restricoes():\n",
    "    '''Plota as restrições lineares da forma Ax = b.''' \n",
    "    JX_MIN, JX_MAX = plt.xlim() \n",
    "    # Pegamos o intervalo onde está definido o gráfico\n",
    "    for i in range(len(A)): \n",
    "        if A[i][1] == 0: # caso o coeficiente de y seja 0, x é uma constante\n",
    "            X = b[i]/A[i][0]\n",
    "            plt.plot([X,X],[JY_MIN,JX_MAX],'r') \n",
    "        else:\n",
    "            Y1 = (b[i] - A[i][0]*JX_MIN)/A[i][1]\n",
    "            Y2 = (b[i] - A[i][0]*JX_MAX)/A[i][1]\n",
    "            plt.plot([JX_MIN,JX_MAX],[Y1,Y2],'r') "
   ]
  },
  {
   "cell_type": "code",
   "execution_count": 6,
   "metadata": {
    "collapsed": false
   },
   "outputs": [
    {
     "data": {
      "image/png": "[encoded data removed]",
      "text/plain": [
       "<matplotlib.figure.Figure at 0x280cba3d470>"
      ]
     },
     "metadata": {},
     "output_type": "display_data"
    }
   ],
   "source": [
    "#3. Agora, importamos o widget de interatiividade \n",
    "from ipywidgets import interact\n",
    "D = interact(plotar,sigma=(0,NSIGMA-1))                "
   ]
  },
  {
   "cell_type": "markdown",
   "metadata": {},
   "source": [
    "Note que podemos usar o slider acima para ver como se comporta o caminho para diferentes valores de $\\sigma$."
   ]
  }
 ],
 "metadata": {
  "anaconda-cloud": {},
  "kernelspec": {
   "display_name": "Python [Root]",
   "language": "python",
   "name": "Python [Root]"
  },
  "language_info": {
   "codemirror_mode": {
    "name": "ipython",
    "version": 3
   },
   "file_extension": ".py",
   "mimetype": "text/x-python",
   "name": "python",
   "nbconvert_exporter": "python",
   "pygments_lexer": "ipython3",
   "version": "3.5.2"
  }
 },
 "nbformat": 4,
 "nbformat_minor": 0
}
