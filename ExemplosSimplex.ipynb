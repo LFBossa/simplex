{
 "cells": [
  {
   "cell_type": "markdown",
   "metadata": {
    "collapsed": true,
    "nbpresent": {
     "id": "3d3ecc98-d9bd-4d13-9e53-5179032cfbae"
    }
   },
   "source": [
    "# Exemplos da implementação do método Simplex \n",
    "\n",
    "## Simplex Primal \n",
    "\n",
    "Vamos importar a classe `SimplexPrimal`"
   ]
  },
  {
   "cell_type": "code",
   "execution_count": 1,
   "metadata": {
    "collapsed": true,
    "nbpresent": {
     "id": "5dd1e06d-dd14-45b4-bd96-8f218efc1755"
    }
   },
   "outputs": [],
   "source": [
    "from metodosimplex import SimplexPrimal"
   ]
  },
  {
   "cell_type": "markdown",
   "metadata": {},
   "source": [
    "**Exemplo com base inicial**. Lista 2, exercício 7."
   ]
  },
  {
   "cell_type": "code",
   "execution_count": 2,
   "metadata": {
    "collapsed": false
   },
   "outputs": [
    {
     "name": "stdout",
     "output_type": "stream",
     "text": [
      "Problema tem base, vamos começar a pivotar.\n",
      "Tableau\n",
      "[[  1.   2.   1.   0.   0.   6.]\n",
      " [  2.  -1.   0.   1.   0.   4.]\n",
      " [  5.   3.   0.   0.   1.  15.]\n",
      " [  5.   4.   0.   0.   0.   0.]]\n",
      "Pivotando na linha 2 e coluna 1.\n",
      "[[  0.    2.5   1.   -0.5   0.    4. ]\n",
      " [  1.   -0.5   0.    0.5   0.    2. ]\n",
      " [  0.    5.5   0.   -2.5   1.    5. ]\n",
      " [  0.    6.5   0.   -2.5   0.  -10. ]]\n",
      "Pivotando na linha 3 e coluna 2.\n",
      "[[  0.      0.      1.      0.636  -0.455   1.727]\n",
      " [  1.      0.      0.      0.273   0.091   2.455]\n",
      " [  0.      1.      0.     -0.455   0.182   0.909]\n",
      " [  0.      0.      0.      0.455  -1.182 -15.909]]\n",
      "Pivotando na linha 1 e coluna 4.\n",
      "[[  0.      0.      1.571   1.     -0.714   2.714]\n",
      " [  1.      0.     -0.429   0.      0.286   1.714]\n",
      " [  0.      1.      0.714   0.     -0.143   2.143]\n",
      " [  0.      0.     -0.714   0.     -0.857 -17.143]]\n",
      "Solução x =\n",
      "[ 1.714  2.143  0.     2.714  0.   ]\n"
     ]
    }
   ],
   "source": [
    "A = [[1, 2, 1, 0, 0],\n",
    "     [2,-1, 0, 1, 0],\n",
    "     [5, 3, 0, 0, 1]]\n",
    "b = [6, 4, 15]\n",
    "c = [-5, -4]\n",
    "\n",
    "prob = SimplexPrimal(A,b,c)\n",
    "prob.resolver()"
   ]
  },
  {
   "cell_type": "markdown",
   "metadata": {},
   "source": [
    "**Outro exemplo com base inicial.** Lista 3, exercício 3."
   ]
  },
  {
   "cell_type": "code",
   "execution_count": 3,
   "metadata": {
    "collapsed": true
   },
   "outputs": [
    {
     "name": "stdout",
     "output_type": "stream",
     "text": [
      "Problema tem base, vamos começar a pivotar.\n",
      "Tableau\n",
      "[[  1.   2.   1.   1.   0.  10.]\n",
      " [  1.  -1.   3.   0.   1.   6.]\n",
      " [  2.   3.   6.   0.   0.   0.]]\n",
      "Pivotando na linha 2 e coluna 3.\n",
      "[[  0.667   2.333   0.      1.     -0.333   8.   ]\n",
      " [  0.333  -0.333   1.      0.      0.333   2.   ]\n",
      " [  0.      5.      0.      0.     -2.    -12.   ]]\n",
      "Pivotando na linha 1 e coluna 2.\n",
      "[[  0.286   1.      0.      0.429  -0.143   3.429]\n",
      " [  0.429   0.      1.      0.143   0.286   3.143]\n",
      " [ -1.429   0.      0.     -2.143  -1.286 -29.143]]\n",
      "Solução x =\n",
      "[ 0.     3.429  3.143  0.     0.   ]\n"
     ]
    }
   ],
   "source": [
    "A = [[1,2,1,1,0],\n",
    "     [1,-1,3,0,1]]\n",
    "b = [10,6]\n",
    "c = [-2,-3,-6]\n",
    "\n",
    "prob = SimplexPrimal(A,b,c)\n",
    "prob.resolver()"
   ]
  },
  {
   "cell_type": "markdown",
   "metadata": {},
   "source": [
    "**Exemplo sem base inicial.** Apostila, página 42."
   ]
  },
  {
   "cell_type": "code",
   "execution_count": 4,
   "metadata": {
    "collapsed": false
   },
   "outputs": [
    {
     "name": "stdout",
     "output_type": "stream",
     "text": [
      "Problema não tem base, vamos para a fase 1.\n",
      "Iniciando a fase 1.\n",
      "[[ 1.  1. -1.  0.  0.  1.  0.  2.]\n",
      " [-1.  1.  0. -1.  0.  0.  1.  1.]\n",
      " [ 0.  1.  0.  0.  1.  0.  0.  3.]\n",
      " [ 0.  0.  0.  0.  0. -1. -1.  0.]]\n",
      "Pivotando nas variáveis artificiais.\n",
      "[[ 1.  1. -1.  0.  0.  1.  0.  2.]\n",
      " [-1.  1.  0. -1.  0.  0.  1.  1.]\n",
      " [ 0.  1.  0.  0.  1.  0.  0.  3.]\n",
      " [ 0.  2. -1. -1.  0.  0.  0.  3.]]\n",
      "Pivotando na linha 2 e coluna 2.\n",
      "[[ 2.  0. -1.  1.  0.  1. -1.  1.]\n",
      " [-1.  1.  0. -1.  0.  0.  1.  1.]\n",
      " [ 1.  0.  0.  1.  1.  0. -1.  2.]\n",
      " [ 2.  0. -1.  1.  0.  0. -2.  1.]]\n",
      "Pivotando na linha 1 e coluna 1.\n",
      "[[ 1.   0.  -0.5  0.5  0.   0.5 -0.5  0.5]\n",
      " [ 0.   1.  -0.5 -0.5  0.   0.5  0.5  1.5]\n",
      " [ 0.   0.   0.5  0.5  1.  -0.5 -0.5  1.5]\n",
      " [ 0.   0.   0.   0.   0.  -1.  -1.   0. ]]\n",
      "Iniciando a fase 2.\n",
      "Vetor de custo relativo adicionado.\n",
      "[[ 1.   0.  -0.5  0.5  0.   0.5]\n",
      " [ 0.   1.  -0.5 -0.5  0.   1.5]\n",
      " [ 0.   0.   0.5  0.5  1.   1.5]\n",
      " [-1.   2.   0.   0.   0.   0. ]]\n",
      "[[ 1.   0.  -0.5  0.5  0.   0.5]\n",
      " [ 0.   1.  -0.5 -0.5  0.   1.5]\n",
      " [ 0.   0.   0.5  0.5  1.   1.5]\n",
      " [ 0.   0.   0.5  1.5  0.  -2.5]]\n",
      "Pivotando na linha 1 e coluna 4.\n",
      "[[ 2.  0. -1.  1.  0.  1.]\n",
      " [ 1.  1. -1.  0.  0.  2.]\n",
      " [-1.  0.  1.  0.  1.  1.]\n",
      " [-3.  0.  2.  0.  0. -4.]]\n",
      "Pivotando na linha 3 e coluna 3.\n",
      "[[ 1.  0.  0.  1.  1.  2.]\n",
      " [ 0.  1.  0.  0.  1.  3.]\n",
      " [-1.  0.  1.  0.  1.  1.]\n",
      " [-1.  0.  0.  0. -2. -6.]]\n",
      "Solução x =\n",
      "[ 0.  3.  1.  2.  0.]\n"
     ]
    }
   ],
   "source": [
    "A = [[1, 1,-1, 0, 0],\n",
    "    [-1, 1, 0,-1, 0],\n",
    "     [0, 1, 0, 0, 1]]\n",
    "b = [2, 1, 3]\n",
    "c = [1, -2]\n",
    "\n",
    "prob = SimplexPrimal(A,b,c)\n",
    "prob.resolver()"
   ]
  },
  {
   "cell_type": "markdown",
   "metadata": {},
   "source": [
    "**Exemplo de solução ilimitada.** Apostila, página 37."
   ]
  },
  {
   "cell_type": "code",
   "execution_count": 5,
   "metadata": {
    "collapsed": false
   },
   "outputs": [
    {
     "name": "stdout",
     "output_type": "stream",
     "text": [
      "Problema tem base, vamos começar a pivotar.\n",
      "Tableau\n",
      "[[ 1. -2.  1.  0.  4.]\n",
      " [-1.  1.  0.  1.  3.]\n",
      " [ 1.  3.  0.  0.  0.]]\n",
      "Pivotando na linha 2 e coluna 2.\n",
      "[[ -1.   0.   1.   2.  10.]\n",
      " [ -1.   1.   0.   1.   3.]\n",
      " [  4.   0.   0.  -3.  -9.]]\n",
      "Solução Ilimitada: O -gradiente aponta em uma direção ilimitada do conjunto.\n"
     ]
    }
   ],
   "source": [
    "A = [[1,-2, 1, 0],\n",
    "    [-1, 1, 0, 1]]\n",
    "b = [4, 3]\n",
    "c = [-1,-3]\n",
    "\n",
    "prob = SimplexPrimal(A,b,c)\n",
    "prob.resolver()"
   ]
  },
  {
   "cell_type": "markdown",
   "metadata": {},
   "source": [
    "**Exemplo de conjunto viável vazio.** Apostila, página 43."
   ]
  },
  {
   "cell_type": "code",
   "execution_count": 6,
   "metadata": {
    "collapsed": false
   },
   "outputs": [
    {
     "name": "stdout",
     "output_type": "stream",
     "text": [
      "Problema não tem base, vamos para a fase 1.\n",
      "Iniciando a fase 1.\n",
      "[[ 1.  1.  1.  0.  0.  0.]\n",
      " [ 2.  3.  0. -1.  0.  1.]\n",
      " [ 0.  0.  0.  0. -1.  0.]]\n",
      "Pivotando nas variáveis artificiais.\n",
      "[[ 1.  1.  1.  0.  0.  0.]\n",
      " [ 2.  3.  0. -1.  0.  1.]\n",
      " [ 2.  3.  0. -1. -1.  1.]]\n",
      "Pivotando na linha 1 e coluna 2.\n",
      "[[ 1.  1.  1.  0.  0.  0.]\n",
      " [-1.  0. -3. -1.  0.  1.]\n",
      " [-1.  0. -3. -1. -1.  1.]]\n",
      "O conjunto viável é vazio.\n"
     ]
    }
   ],
   "source": [
    "A = [[1, 1, 1, 0],\n",
    "     [2, 3, 0,-1]]\n",
    "b = [4, 18]\n",
    "c = [-3, 4] \n",
    "\n",
    "prob = SimplexPrimal(A,b,c)\n",
    "prob.resolver()"
   ]
  },
  {
   "cell_type": "markdown",
   "metadata": {},
   "source": [
    "**Exemplo redundância.** Apostila, página 44"
   ]
  },
  {
   "cell_type": "code",
   "execution_count": 7,
   "metadata": {
    "collapsed": false
   },
   "outputs": [
    {
     "name": "stdout",
     "output_type": "stream",
     "text": [
      "Problema não tem base, vamos para a fase 1.\n",
      "Iniciando a fase 1.\n",
      "[[  1.   1.   1.   0.   1.   0.   0.   6.]\n",
      " [ -1.   1.   2.   0.   0.   1.   0.   4.]\n",
      " [  0.   2.   3.   0.   0.   0.   1.  10.]\n",
      " [  0.   0.   1.   1.   0.   0.   0.   2.]\n",
      " [  0.   0.   0.   0.  -1.  -1.  -1.   0.]]\n",
      "Pivotando nas variáveis artificiais.\n",
      "[[  1.   1.   1.   0.   1.   0.   0.   6.]\n",
      " [ -1.   1.   2.   0.   0.   1.   0.   4.]\n",
      " [  0.   2.   3.   0.   0.   0.   1.  10.]\n",
      " [  0.   0.   1.   1.   0.   0.   0.   2.]\n",
      " [  0.   4.   6.   0.   0.   0.   0.  20.]]\n",
      "Pivotando na linha 2 e coluna 3.\n",
      "[[ 1.5  0.5  0.   0.   1.  -0.5  0.   4. ]\n",
      " [-0.5  0.5  1.   0.   0.   0.5  0.   2. ]\n",
      " [ 1.5  0.5  0.   0.   0.  -1.5  1.   4. ]\n",
      " [ 0.5 -0.5  0.   1.   0.  -0.5  0.   0. ]\n",
      " [ 3.   1.   0.   0.   0.  -3.   0.   8. ]]\n",
      "Pivotando na linha 4 e coluna 1.\n",
      "[[ 0.  2.  0. -3.  1.  1.  0.  4.]\n",
      " [ 0.  0.  1.  1.  0.  0.  0.  2.]\n",
      " [ 0.  2.  0. -3.  0.  0.  1.  4.]\n",
      " [ 1. -1.  0.  2.  0. -1.  0.  0.]\n",
      " [ 0.  4.  0. -6.  0.  0.  0.  8.]]\n",
      "Pivotando na linha 3 e coluna 2.\n",
      "[[ 0.   0.   0.   0.   1.   1.  -1.   0. ]\n",
      " [ 0.   0.   1.   1.   0.   0.   0.   2. ]\n",
      " [ 0.   1.   0.  -1.5  0.   0.   0.5  2. ]\n",
      " [ 1.   0.   0.   0.5  0.  -1.   0.5  2. ]\n",
      " [ 0.   0.   0.   0.   0.   0.  -2.   0. ]]\n",
      "Não é possível remover a variável artifical 5 da base, teremos que deletar a linha correspondente.\n",
      "Iniciando a fase 2.\n",
      "Vetor de custo relativo adicionado.\n",
      "[[ 0.   0.   1.   1.   2. ]\n",
      " [ 0.   1.   0.  -1.5  2. ]\n",
      " [ 1.   0.   0.   0.5  2. ]\n",
      " [ 1.  -2.   3.   0.   0. ]]\n",
      "[[ 0.   0.   1.   1.   2. ]\n",
      " [ 0.   1.   0.  -1.5  2. ]\n",
      " [ 1.   0.   0.   0.5  2. ]\n",
      " [ 0.   0.   0.  -6.5 -4. ]]\n",
      "Solução x =\n",
      "[ 2.  2.  2.  0.]\n"
     ]
    }
   ],
   "source": [
    "A = [[1, 1, 1, 0],\n",
    "    [-1, 1, 2, 0],\n",
    "     [0, 2, 3, 0],\n",
    "     [0, 0, 1, 1]]\n",
    "b = [6, 4, 10, 2]\n",
    "c = [-1, 2, -3]\n",
    "\n",
    "problema = SimplexPrimal(A,b,c)\n",
    "problema.resolver()"
   ]
  },
  {
   "cell_type": "markdown",
   "metadata": {},
   "source": [
    "## Simplex Dual\n",
    "\n",
    "Vamos importar a classe `SimplexDual`\n",
    " "
   ]
  },
  {
   "cell_type": "code",
   "execution_count": 8,
   "metadata": {
    "collapsed": true
   },
   "outputs": [],
   "source": [
    "from metodosimplex import SimplexDual"
   ]
  },
  {
   "cell_type": "markdown",
   "metadata": {
    "collapsed": true
   },
   "source": [
    "**Exemplo Simplex Dual**. Lista 3, exercício 5(a)"
   ]
  },
  {
   "cell_type": "code",
   "execution_count": 9,
   "metadata": {
    "collapsed": false
   },
   "outputs": [
    {
     "name": "stdout",
     "output_type": "stream",
     "text": [
      "Tableau\n",
      "[[ -1.   0.  -3.   1.   0.  -3.]\n",
      " [  0.  -1.  -2.   0.   1.  -5.]\n",
      " [ -4.  -6. -18.   0.   0.   0.]]\n",
      "Pivotando na linha 2 e coluna 2.\n",
      "[[ -1.   0.  -3.   1.   0.  -3.]\n",
      " [ -0.   1.   2.  -0.  -1.   5.]\n",
      " [ -4.   0.  -6.   0.  -6.  30.]]\n",
      "Pivotando na linha 1 e coluna 3.\n",
      "[[  0.333  -0.      1.     -0.333  -0.      1.   ]\n",
      " [ -0.667   1.      0.      0.667  -1.      3.   ]\n",
      " [ -2.      0.      0.     -2.     -6.     36.   ]]\n",
      "Solução x =\n",
      "[ 0.  3.  1.  0.  0.]\n"
     ]
    }
   ],
   "source": [
    "A = [[-1, 0, -3, 1, 0],\n",
    "     [ 0,-1, -2, 0, 1]]\n",
    "b = [-3, -5]\n",
    "c = [4, 6, 18]\n",
    "\n",
    "problema = SimplexDual(A,b,c)\n",
    "problema.resolver()"
   ]
  },
  {
   "cell_type": "markdown",
   "metadata": {},
   "source": [
    "**Exemplo Simplex Dual**. Lista 3, exercício 5(b)"
   ]
  },
  {
   "cell_type": "code",
   "execution_count": 10,
   "metadata": {
    "collapsed": true
   },
   "outputs": [
    {
     "name": "stdout",
     "output_type": "stream",
     "text": [
      "Tableau\n",
      "[[-1. -2. -3. -1.  1.  0. -2.]\n",
      " [-2.  1. -1.  3.  0.  1. -3.]\n",
      " [-2. -3. -5. -6.  0.  0.  0.]]\n",
      "Pivotando na linha 2 e coluna 1.\n",
      "[[ 0.  -2.5 -2.5 -2.5  1.  -0.5 -0.5]\n",
      " [ 1.  -0.5  0.5 -1.5 -0.  -0.5  1.5]\n",
      " [ 0.  -4.  -4.  -9.   0.  -1.   3. ]]\n",
      "Pivotando na linha 1 e coluna 3.\n",
      "[[-0.   1.   1.   1.  -0.4  0.2  0.2]\n",
      " [ 1.  -1.   0.  -2.   0.2 -0.6  1.4]\n",
      " [ 0.   0.   0.  -5.  -1.6 -0.2  3.8]]\n",
      "Solução x =\n",
      "[ 1.4  0.   0.2  0.   0.   0. ]\n"
     ]
    }
   ],
   "source": [
    "A = [[-1,-2,-3,-1,1,0],\n",
    "     [-2, 1,-1, 3,0,1]]\n",
    "b = [-2, -3]\n",
    "c = [2, 3, 5, 6]\n",
    "\n",
    "\n",
    "problema = SimplexDual(A,b,c)\n",
    "problema.resolver()"
   ]
  },
  {
   "cell_type": "markdown",
   "metadata": {},
   "source": [
    "**Exemplo Apostila, pg 73**"
   ]
  },
  {
   "cell_type": "code",
   "execution_count": 11,
   "metadata": {
    "collapsed": false
   },
   "outputs": [
    {
     "name": "stdout",
     "output_type": "stream",
     "text": [
      "Tableau\n",
      "[[-1. -2. -1.  1.  0. -3.]\n",
      " [-2.  1. -3.  0.  1. -4.]\n",
      " [-2. -3. -4.  0.  0.  0.]]\n",
      "Pivotando na linha 2 e coluna 1.\n",
      "[[ 0.  -2.5  0.5  1.  -0.5 -1. ]\n",
      " [ 1.  -0.5  1.5 -0.  -0.5  2. ]\n",
      " [ 0.  -4.  -1.   0.  -1.   4. ]]\n",
      "Pivotando na linha 1 e coluna 2.\n",
      "[[-0.   1.  -0.2 -0.4  0.2  0.4]\n",
      " [ 1.   0.   1.4 -0.2 -0.4  2.2]\n",
      " [ 0.   0.  -1.8 -1.6 -0.2  5.6]]\n",
      "Solução x =\n",
      "[ 2.2  0.4  0.   0.   0. ]\n"
     ]
    }
   ],
   "source": [
    "A = [[-1,-2,-1,1,0],\n",
    "     [-2, 1,-3,0,1]]\n",
    "b = [-3, -4]\n",
    "c = [2, 3, 4]\n",
    "\n",
    "problema = SimplexDual(A,b,c)\n",
    "problema.resolver() "
   ]
  }
 ],
 "metadata": {
  "anaconda-cloud": {},
  "kernelspec": {
   "display_name": "Python [Root]",
   "language": "python",
   "name": "Python [Root]"
  },
  "language_info": {
   "codemirror_mode": {
    "name": "ipython",
    "version": 3
   },
   "file_extension": ".py",
   "mimetype": "text/x-python",
   "name": "python",
   "nbconvert_exporter": "python",
   "pygments_lexer": "ipython3",
   "version": "3.5.2"
  },
  "nbpresent": {
   "slides": {
    "283d0cbc-54dc-47dd-9c95-b529fc03602a": {
     "id": "283d0cbc-54dc-47dd-9c95-b529fc03602a",
     "prev": "d3813b4a-8f84-4681-aa93-087f29f301d9",
     "regions": {
      "371c6901-5c0e-458f-b3f7-5021c07f330f": {
       "attrs": {
        "height": 0.2,
        "width": 0.4,
        "x": 0.5,
        "y": 0.7
       },
       "id": "371c6901-5c0e-458f-b3f7-5021c07f330f"
      },
      "46d4e380-f010-4386-b472-23cddb71b99c": {
       "attrs": {
        "height": 0.6,
        "width": 0.8,
        "x": 0.1,
        "y": 0.1
       },
       "id": "46d4e380-f010-4386-b472-23cddb71b99c"
      },
      "b5bc6000-5b2a-4745-8901-71f7971d8b03": {
       "attrs": {
        "height": 0.2,
        "width": 0.4,
        "x": 0.1,
        "y": 0.7
       },
       "id": "b5bc6000-5b2a-4745-8901-71f7971d8b03"
      }
     }
    },
    "d3813b4a-8f84-4681-aa93-087f29f301d9": {
     "id": "d3813b4a-8f84-4681-aa93-087f29f301d9",
     "layout": "manual",
     "prev": null,
     "regions": {}
    }
   },
   "themes": {}
  }
 },
 "nbformat": 4,
 "nbformat_minor": 0
}
